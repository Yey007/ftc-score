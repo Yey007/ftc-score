{
 "cells": [
  {
   "cell_type": "markdown",
   "source": [
    "We'll use OCR code from here: https://towardsdatascience.com/optical-character-recognition-ocr-with-less-than-12-lines-of-code-using-python-48404218cccb\n",
    "\n",
    "And the video code here: https://stackoverflow.com/a/29317298"
   ],
   "metadata": {
    "collapsed": false,
    "pycharm": {
     "name": "#%% md\n"
    }
   }
  },
  {
   "cell_type": "code",
   "execution_count": 4,
   "metadata": {
    "collapsed": true,
    "pycharm": {
     "name": "#%%\n"
    }
   },
   "outputs": [],
   "source": [
    "import os\n",
    "import cv2\n",
    "import pytesseract\n",
    "from uuid import uuid4\n",
    "import numpy as np\n",
    "import ffmpeg"
   ]
  },
  {
   "cell_type": "code",
   "execution_count": 5,
   "outputs": [],
   "source": [
    "OUT_DIR = '../data/processed/videos'\n",
    "IN_DIR = '../data/raw/videos'"
   ],
   "metadata": {
    "collapsed": false,
    "pycharm": {
     "name": "#%%\n"
    }
   }
  },
  {
   "cell_type": "markdown",
   "source": [
    "The regular OCR for tesseract is not fast enough. We'll need to use the fast langpacks"
   ],
   "metadata": {
    "collapsed": false,
    "pycharm": {
     "name": "#%% md\n"
    }
   }
  },
  {
   "cell_type": "code",
   "execution_count": null,
   "outputs": [],
   "source": [
    "cap = cv2.VideoCapture('./data/raw/videos/oregon_cut.avi')\n",
    "got_frame, _ = cap.read()\n",
    "if not got_frame:\n",
    "    raise Exception('No frames :(')\n",
    "\n",
    "previous = \"\"\n",
    "writer = None\n",
    "\n",
    "total_frames = int(cap.get(cv2.CAP_PROP_FRAME_COUNT))\n",
    "frame_count = 0\n",
    "while True:\n",
    "    got_frame, frame = cap.read()\n",
    "\n",
    "    # Crop the frame to just the text\n",
    "    cropped = frame[910:1020, 910:950]\n",
    "\n",
    "    # Threshold code from the article\n",
    "    gray = cv2.cvtColor(cropped, cv2.COLOR_RGB2GRAY)\n",
    "    gray, img_bin = cv2.threshold(gray, 128, 255, cv2.THRESH_BINARY | cv2.THRESH_OTSU)\n",
    "    gray = cv2.bitwise_not(img_bin)\n",
    "\n",
    "    s = pytesseract.image_to_string(gray, lang='eng')\n",
    "\n",
    "    if previous == \"30\" and s == \"29\":\n",
    "        # match start\n",
    "        size = (frame.shape[1], frame.shape[0])\n",
    "        writer = cv2.VideoWriter(f'{OUT_DIR}/match-{uuid4()}.avi', -1, 20.0, size)\n",
    "\n",
    "    corner_pixel = cropped[0, 0]\n",
    "    background_red = corner_pixel[0] < 120 and corner_pixel[1] < 120 and corner_pixel[2] > 240\n",
    "    if previous == \"1\" and s == \"0\" and background_red:\n",
    "        # match end\n",
    "        writer.release()\n",
    "        writer = None\n",
    "\n",
    "    if writer is not None:\n",
    "        writer.write(frame)\n",
    "\n",
    "    previous = s\n",
    "    print(f'{frame_count}/{total_frames}; Detected: {s};', end='\\r')\n",
    "    frame_count += 1\n",
    "\n",
    "cap.release()\n",
    "cv2.destroyAllWindows()"
   ],
   "metadata": {
    "collapsed": false,
    "pycharm": {
     "name": "#%%\n"
    }
   }
  },
  {
   "cell_type": "markdown",
   "source": [
    "Unfortunately, tesseract is just way too slow. Even using the fast language packs, it did considerably slower than real time"
   ],
   "metadata": {
    "collapsed": false,
    "pycharm": {
     "name": "#%% md\n"
    }
   }
  },
  {
   "cell_type": "code",
   "execution_count": null,
   "outputs": [],
   "source": [
    "cap = cv2.VideoCapture('./data/raw/videos/oregon_cut.avi')\n",
    "got_frame, _ = cap.read()\n",
    "if not got_frame:\n",
    "    raise Exception('No frames :(')\n",
    "\n",
    "prev = (0, 0, 0)\n",
    "recording = False\n",
    "\n",
    "total_frames = int(cap.get(cv2.CAP_PROP_FRAME_COUNT))\n",
    "frame_count = 0\n",
    "\n",
    "matches = []\n",
    "\n",
    "\n",
    "def in_range(p, r):\n",
    "    return r[0] + 10 >= p[0] >= r[0] - 10 and r[1] + 10 >= p[1] >= r[1] - 10 and r[2] + 10 >= p[2] >= r[2] - 10\n",
    "\n",
    "\n",
    "while True:\n",
    "    got_frame, frame = cap.read()\n",
    "\n",
    "    if not got_frame:\n",
    "        break\n",
    "\n",
    "    detection_range = frame[928:948, 739:741]\n",
    "    detection_range_avg = np.average(detection_range, axis=(0, 1))\n",
    "\n",
    "    if not recording and in_range(prev, (150, 150, 150)) and not in_range(detection_range_avg, (150, 150, 150)):\n",
    "        # match start\n",
    "        recording = True\n",
    "        matches.append([frame_count])\n",
    "\n",
    "    if recording and in_range(detection_range_avg, (10, 10, 220)):\n",
    "        # match end\n",
    "        recording = False\n",
    "        matches[-1].append(frame_count)\n",
    "\n",
    "    frame_count += 1\n",
    "    prev = detection_range_avg\n",
    "    print(f'{frame_count / total_frames * 100:.2f}%', end='\\r')\n",
    "\n",
    "print(matches)\n",
    "\n",
    "cap.release()\n",
    "cv2.destroyAllWindows()"
   ],
   "metadata": {
    "collapsed": false,
    "pycharm": {
     "name": "#%%\n"
    }
   }
  },
  {
   "cell_type": "markdown",
   "source": [
    "As seen above I inspect the progress bar. Looking at one pixel turns out to be too unpredictable so I look at an average. Even that has some issues because initially there is some grey left in the progress bar before going full green, so instead I'm just gonna look at shifts away from gray"
   ],
   "metadata": {
    "collapsed": false,
    "pycharm": {
     "name": "#%% md\n"
    }
   }
  },
  {
   "cell_type": "code",
   "execution_count": null,
   "outputs": [],
   "source": [
    "in_file = ffmpeg.input('./data/raw/videos/oregon_cut.avi')\n",
    "for (start, end) in matches:\n",
    "    in_file\n",
    "    .trim(start_frame=start, end_frame=end)\n",
    "    .setpts('PTS-STARTPTS')\n",
    "    .output(f'{OUT_DIR}/match-oregon-{start}-{end}.avi')\n",
    "    .run()"
   ],
   "metadata": {
    "collapsed": false,
    "pycharm": {
     "name": "#%%\n"
    }
   }
  },
  {
   "cell_type": "code",
   "execution_count": null,
   "outputs": [],
   "source": [
    "def in_range(p, r):\n",
    "    return r[0] + 10 >= p[0] >= r[0] - 10 and r[1] + 10 >= p[1] >= r[1] - 10 and r[2] + 10 >= p[2] >= r[2] - 10\n",
    "\n",
    "\n",
    "def has_text(cropped, text):\n",
    "    gray = cv2.cvtColor(cropped, cv2.COLOR_RGB2GRAY)\n",
    "    gray, img_bin = cv2.threshold(gray, 128, 255, cv2.THRESH_BINARY | cv2.THRESH_OTSU)\n",
    "    gray = cv2.bitwise_not(img_bin)\n",
    "    return text == pytesseract.image_to_string(gray, lang='eng')\n",
    "\n",
    "\n",
    "for video in os.listdir(IN_DIR):\n",
    "    cap = cv2.VideoCapture(f'{IN_DIR}/{video}')\n",
    "\n",
    "    got_frame, _ = cap.read()\n",
    "    if not got_frame:\n",
    "        print(f'Skipping {video}')\n",
    "\n",
    "    prev = (0, 0, 0)\n",
    "    recording = False\n",
    "\n",
    "    total_frames = int(cap.get(cv2.CAP_PROP_FRAME_COUNT))\n",
    "    frame_count = 0\n",
    "\n",
    "    matches = []\n",
    "\n",
    "    while True:\n",
    "        got_frame, frame = cap.read()\n",
    "\n",
    "        if not got_frame:\n",
    "            break\n",
    "\n",
    "        detection_range = frame[928:948, 739:741]\n",
    "        text_range = frame[910:1020, 910:950]\n",
    "        detection_range_avg = np.average(detection_range, axis=(0, 1))\n",
    "\n",
    "        if not recording \\\n",
    "                and in_range(prev, (150, 150, 150)) \\\n",
    "                and not in_range(detection_range_avg, (150, 150, 150)) \\\n",
    "                and has_text(text_range, \"29\"):\n",
    "            # match start\n",
    "            recording = True\n",
    "            matches.append([frame_count])\n",
    "\n",
    "        if recording \\\n",
    "                and in_range(detection_range_avg, (10, 10, 220)) \\\n",
    "                and has_text(text_range, \"0\"):\n",
    "            # match end\n",
    "            recording = False\n",
    "            matches[-1].append(frame_count)\n",
    "\n",
    "        frame_count += 1\n",
    "        prev = detection_range_avg\n",
    "        print(f'{frame_count / total_frames * 100:.2f}%', end='\\r')\n",
    "\n",
    "    print(matches)\n",
    "\n",
    "cap.release()"
   ],
   "metadata": {
    "collapsed": false,
    "pycharm": {
     "name": "#%%\n"
    }
   }
  }
 ],
 "metadata": {
  "kernelspec": {
   "display_name": "Python 3",
   "language": "python",
   "name": "python3"
  },
  "language_info": {
   "codemirror_mode": {
    "name": "ipython",
    "version": 2
   },
   "file_extension": ".py",
   "mimetype": "text/x-python",
   "name": "python",
   "nbconvert_exporter": "python",
   "pygments_lexer": "ipython2",
   "version": "2.7.6"
  }
 },
 "nbformat": 4,
 "nbformat_minor": 0
}
