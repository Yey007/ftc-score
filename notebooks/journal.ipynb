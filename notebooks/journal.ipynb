{
 "cells": [
  {
   "cell_type": "markdown",
   "source": [
    "* Trying to implement normalization algorithm\n",
    "    * It's giving me all nan for some reason\n",
    "    * I think the numbers are too big? trying 64 bit floats\n",
    "    * I'm trying subsets of the array. The numbers top out at like 26000 before going Nan. Wtf? I know float64 goes *way* higher than that\n",
    "    * Ohhhh there are Nans in the array. Let's make sure that doesn't happen.\n",
    "    * Alright, it's working but it's still very slow. I'm not sure if it's working correctly as well.\n",
    "    * Well let's start by cropping the image...\n",
    "    * Ugh... I've been trying this for hours now. Fuck this, i'm gonna try something else\n",
    "    * Alright, I implemented a bunch of different stuff. I'm a little concerned because all of them are quite slow. I can't get beyond 15 FPS. Constant normalization may not be an option.\n",
    "* I tried a bunch to implement corner detection for the field\n",
    "    * Not going too well lol\n",
    "    * Tried 3 different methods, honestly rn the line based one is looking most promising but needs a lot of work\n",
    "    * For now I'm doing it manually so I can move on to more important stuff\n",
    "* Talked with professor she gave some ideas\n",
    "* We still don't know what's wrong with the comprehensive normalizer (if anything)\n",
    "* Working on field detection while reimplemented processor runs\n",
    "    * Hough lines is a mess, maybe it would work if I tuned it\n",
    "    * Line segment detector performed much better off the bat so i'm going to start tuning that"
   ],
   "metadata": {
    "collapsed": false,
    "pycharm": {
     "name": "#%% md\n"
    }
   }
  }
 ],
 "metadata": {
  "kernelspec": {
   "display_name": "Python 3",
   "language": "python",
   "name": "python3"
  },
  "language_info": {
   "codemirror_mode": {
    "name": "ipython",
    "version": 2
   },
   "file_extension": ".py",
   "mimetype": "text/x-python",
   "name": "python",
   "nbconvert_exporter": "python",
   "pygments_lexer": "ipython2",
   "version": "2.7.6"
  }
 },
 "nbformat": 4,
 "nbformat_minor": 0
}