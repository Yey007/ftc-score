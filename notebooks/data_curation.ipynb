{
 "nbformat": 4,
 "nbformat_minor": 0,
 "metadata": {
  "colab": {
   "name": "Final Research.ipynb",
   "provenance": []
  },
  "kernelspec": {
   "name": "python3",
   "display_name": "Python 3"
  },
  "language_info": {
   "name": "python"
  }
 },
 "cells": [
  {
   "cell_type": "markdown",
   "source": [
    "# Data Curation"
   ],
   "metadata": {
    "id": "9_ubAy2KEZRN",
    "pycharm": {
     "name": "#%% md\n"
    }
   }
  },
  {
   "cell_type": "code",
   "source": [
    "# Install dependencies\n",
    "!python3 -m pip install youtube-dl"
   ],
   "metadata": {
    "colab": {
     "base_uri": "https://localhost:8080/"
    },
    "id": "xMUQ_F8sFJgW",
    "outputId": "54596330-676f-4e3f-bbac-af0f3872893d",
    "pycharm": {
     "name": "#%%\n"
    }
   },
   "execution_count": null,
   "outputs": []
  },
  {
   "cell_type": "code",
   "execution_count": null,
   "outputs": [],
   "source": [
    "# Download videos\n",
    "import youtube_dl\n",
    "\n",
    "DATA_DIR = '../data/raw/videos'\n",
    "ids = ['zU9y354XAgM', '6UbA9wDfa5k', 'JvAtzLdOtbM']\n",
    "\n",
    "ydl_opts = {\n",
    "  'postprocessors': [{\n",
    "    'key': 'FFmpegVideoConvertor',\n",
    "    'preferedformat': 'mp4'\n",
    "  }],\n",
    "  'outtmpl': f'{DATA_DIR}/%(id)s',\n",
    "  'format': '248'\n",
    "}\n",
    "with youtube_dl.YoutubeDL(ydl_opts) as ydl:\n",
    "  ydl.download([f'https://www.youtube.com/watch?v={id}' for id in ids])"
   ],
   "metadata": {
    "collapsed": false,
    "pycharm": {
     "name": "#%%\n"
    }
   }
  }
 ]
}
