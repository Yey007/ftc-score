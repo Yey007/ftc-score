{
 "nbformat": 4,
 "nbformat_minor": 0,
 "metadata": {
  "colab": {
   "name": "Final Research.ipynb",
   "provenance": []
  },
  "kernelspec": {
   "name": "python3",
   "display_name": "Python 3"
  },
  "language_info": {
   "name": "python"
  }
 },
 "cells": [
  {
   "cell_type": "markdown",
   "source": [
    "# Data Curation"
   ],
   "metadata": {
    "id": "9_ubAy2KEZRN",
    "pycharm": {
     "name": "#%% md\n"
    }
   }
  },
  {
   "cell_type": "code",
   "source": [
    "# Install dependencies\n",
    "!python3 -m pip install youtube-dl"
   ],
   "metadata": {
    "colab": {
     "base_uri": "https://localhost:8080/"
    },
    "id": "xMUQ_F8sFJgW",
    "outputId": "54596330-676f-4e3f-bbac-af0f3872893d",
    "pycharm": {
     "name": "#%%\n"
    }
   },
   "execution_count": 18,
   "outputs": [
    {
     "name": "stdout",
     "output_type": "stream",
     "text": [
      "Requirement already satisfied: youtube-dl in /home/utku/Code/Pioneer/Final Paper/venv/lib/python3.10/site-packages (2021.12.17)\r\n",
      "\u001B[33mWARNING: You are using pip version 21.3.1; however, version 22.2.2 is available.\r\n",
      "You should consider upgrading via the '/home/utku/Code/Pioneer/Final Paper/venv/bin/python3 -m pip install --upgrade pip' command.\u001B[0m\r\n",
      "Requirement already satisfied: opencv-python in /home/utku/Code/Pioneer/Final Paper/venv/lib64/python3.10/site-packages (4.5.4.60)\r\n",
      "Requirement already satisfied: numpy>=1.21.2 in /home/utku/Code/Pioneer/Final Paper/venv/lib64/python3.10/site-packages (from opencv-python) (1.23.1)\r\n",
      "\u001B[33mWARNING: You are using pip version 21.3.1; however, version 22.2.2 is available.\r\n",
      "You should consider upgrading via the '/home/utku/Code/Pioneer/Final Paper/venv/bin/python3 -m pip install --upgrade pip' command.\u001B[0m\r\n"
     ]
    }
   ]
  },
  {
   "cell_type": "code",
   "execution_count": 21,
   "outputs": [
    {
     "name": "stdout",
     "output_type": "stream",
     "text": [
      "[youtube] zU9y354XAgM: Downloading webpage\n",
      "[download] Destination: ./data/raw/zU9y354XAgM\n",
      "[download] 100% of 4.69MiB in 01:3137KiB/s ETA 00:00\n",
      "[ffmpeg] Converting video from webm to avi, Destination: .avi\n",
      "Deleting original file ./data/raw/zU9y354XAgM (pass -k to keep)\n"
     ]
    }
   ],
   "source": [
    "# Download videos\n",
    "import youtube_dl\n",
    "\n",
    "DATA_DIR = '../data/raw/videos'\n",
    "ids = ['zU9y354XAgM', '6UbA9wDfa5k', 'JvAtzLdOtbM']\n",
    "\n",
    "ydl_opts = {\n",
    "  'postprocessors': [{\n",
    "    'key': 'FFmpegVideoConvertor',\n",
    "    'preferedformat': 'mp4'\n",
    "  }],\n",
    "  'outtmpl': f'{DATA_DIR}/%(id)s',\n",
    "  'format': '248'\n",
    "}\n",
    "with youtube_dl.YoutubeDL(ydl_opts) as ydl:\n",
    "  ydl.download([f'https://www.youtube.com/watch?v={id}' for id in ids])"
   ],
   "metadata": {
    "collapsed": false,
    "pycharm": {
     "name": "#%%\n"
    }
   }
  }
 ]
}