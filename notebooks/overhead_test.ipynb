{
 "cells": [
  {
   "cell_type": "markdown",
   "source": [
    "# Attempt to Convert Field to Overhead Model"
   ],
   "metadata": {
    "collapsed": false,
    "pycharm": {
     "name": "#%% md\n"
    }
   }
  },
  {
   "cell_type": "markdown",
   "source": [
    "We'll start simple. We'll use the PyImageSearch guy's four_point_transform template to see what we can get"
   ],
   "metadata": {
    "collapsed": false,
    "pycharm": {
     "name": "#%% md\n"
    }
   }
  },
  {
   "cell_type": "code",
   "execution_count": 7,
   "metadata": {
    "collapsed": true,
    "pycharm": {
     "name": "#%%\n"
    }
   },
   "outputs": [],
   "source": [
    "import cv2\n",
    "import numpy as np"
   ]
  },
  {
   "cell_type": "code",
   "execution_count": 8,
   "outputs": [],
   "source": [
    "def order_points(pts):\n",
    "\t# initialzie a list of coordinates that will be ordered\n",
    "\t# such that the first entry in the list is the top-left,\n",
    "\t# the second entry is the top-right, the third is the\n",
    "\t# bottom-right, and the fourth is the bottom-left\n",
    "\trect = np.zeros((4, 2), dtype = \"float32\")\n",
    "\t# the top-left point will have the smallest sum, whereas\n",
    "\t# the bottom-right point will have the largest sum\n",
    "\ts = pts.sum(axis = 1)\n",
    "\trect[0] = pts[np.argmin(s)]\n",
    "\trect[2] = pts[np.argmax(s)]\n",
    "\t# now, compute the difference between the points, the\n",
    "\t# top-right point will have the smallest difference,\n",
    "\t# whereas the bottom-left will have the largest difference\n",
    "\tdiff = np.diff(pts, axis = 1)\n",
    "\trect[1] = pts[np.argmin(diff)]\n",
    "\trect[3] = pts[np.argmax(diff)]\n",
    "\t# return the ordered coordinates\n",
    "\treturn rect"
   ],
   "metadata": {
    "collapsed": false,
    "pycharm": {
     "name": "#%%\n"
    }
   }
  },
  {
   "cell_type": "code",
   "execution_count": 9,
   "outputs": [],
   "source": [
    "def four_point_transform(image, pts):\n",
    "\t# obtain a consistent order of the points and unpack them\n",
    "\t# individually\n",
    "\trect = order_points(pts)\n",
    "\t(tl, tr, br, bl) = rect\n",
    "\t# compute the width of the new image, which will be the\n",
    "\t# maximum distance between bottom-right and bottom-left\n",
    "\t# x-coordiates or the top-right and top-left x-coordinates\n",
    "\twidthA = np.sqrt(((br[0] - bl[0]) ** 2) + ((br[1] - bl[1]) ** 2))\n",
    "\twidthB = np.sqrt(((tr[0] - tl[0]) ** 2) + ((tr[1] - tl[1]) ** 2))\n",
    "\tmaxWidth = max(int(widthA), int(widthB))\n",
    "\t# compute the height of the new image, which will be the\n",
    "\t# maximum distance between the top-right and bottom-right\n",
    "\t# y-coordinates or the top-left and bottom-left y-coordinates\n",
    "\theightA = np.sqrt(((tr[0] - br[0]) ** 2) + ((tr[1] - br[1]) ** 2))\n",
    "\theightB = np.sqrt(((tl[0] - bl[0]) ** 2) + ((tl[1] - bl[1]) ** 2))\n",
    "\tmaxHeight = max(int(heightA), int(heightB))\n",
    "\t# now that we have the dimensions of the new image, construct\n",
    "\t# the set of destination points to obtain a \"birds eye view\",\n",
    "\t# (i.e. top-down view) of the image, again specifying points\n",
    "\t# in the top-left, top-right, bottom-right, and bottom-left\n",
    "\t# order\n",
    "\tdst = np.array([\n",
    "\t\t[0, 0],\n",
    "\t\t[maxWidth - 1, 0],\n",
    "\t\t[maxWidth - 1, maxHeight - 1],\n",
    "\t\t[0, maxHeight - 1]], dtype = \"float32\")\n",
    "\t# compute the perspective transform matrix and then apply it\n",
    "\tM = cv2.getPerspectiveTransform(rect, dst)\n",
    "\twarped = cv2.warpPerspective(image, M, (maxWidth, maxHeight))\n",
    "\t# return the warped image\n",
    "\treturn warped"
   ],
   "metadata": {
    "collapsed": false,
    "pycharm": {
     "name": "#%%\n"
    }
   }
  },
  {
   "cell_type": "markdown",
   "source": [
    "For now, since we're working with a static image, we'll select the corners ourselves. We'll use the corners of the gray playing field instead of the top of the walls because the top of the walls cuts off playing area from the bottom and adds unnecessary area at the top."
   ],
   "metadata": {
    "collapsed": false,
    "pycharm": {
     "name": "#%% md\n"
    }
   }
  },
  {
   "cell_type": "code",
   "execution_count": 10,
   "outputs": [
    {
     "data": {
      "text/plain": "array([[[ 73,  76, 100],\n        [ 67,  68,  93],\n        [ 62,  62,  88],\n        ...,\n        [ 61,  64,  68],\n        [ 55,  59,  64],\n        [ 50,  55,  60]],\n\n       [[ 75,  79,  99],\n        [ 74,  76,  98],\n        [ 71,  72,  94],\n        ...,\n        [ 62,  64,  69],\n        [ 57,  60,  65],\n        [ 52,  57,  61]],\n\n       [[ 76,  80,  97],\n        [ 79,  81,  99],\n        [ 79,  80,  98],\n        ...,\n        [ 64,  66,  70],\n        [ 59,  62,  66],\n        [ 54,  58,  62]],\n\n       ...,\n\n       [[149, 150, 147],\n        [120, 122, 121],\n        [ 62,  64,  65],\n        ...,\n        [  1,   8,  15],\n        [  4,  12,  18],\n        [  4,  12,  18]],\n\n       [[171, 173, 165],\n        [152, 154, 150],\n        [119, 121, 119],\n        ...,\n        [  5,  12,  20],\n        [  6,  14,  20],\n        [  7,  15,  19]],\n\n       [[159, 161, 153],\n        [133, 134, 129],\n        [ 86,  88,  85],\n        ...,\n        [  5,  11,  17],\n        [  5,  11,  17],\n        [  5,  12,  16]]], dtype=uint8)"
     },
     "execution_count": 10,
     "metadata": {},
     "output_type": "execute_result"
    }
   ],
   "source": [
    "def transform_and_show(img, corners):\n",
    "\tcv2.imshow(\"normal\", img)\n",
    "\timg = four_point_transform(img, corners)\n",
    "\tcv2.imshow(\"warped\", img)\n",
    "\tcv2.waitKey()\n",
    "\tcv2.destroyAllWindows()\n",
    "\n",
    "\treturn img\n",
    "\n",
    "img = cv2.imread(\"data/raw/images/screenshot.png\")\n",
    "field_corners = np.array([(90, 740), (350, 240), (1040, 240), (1270, 740)])\n",
    "\n",
    "transform_and_show(img, field_corners)"
   ],
   "metadata": {
    "collapsed": false,
    "pycharm": {
     "name": "#%%\n"
    }
   }
  },
  {
   "cell_type": "markdown",
   "source": [
    "You might notice that the image is a rectangle where it should probably be a square if we want an accurate model. So we'll change the `four_point_transform` function a bit to deal with that."
   ],
   "metadata": {
    "collapsed": false,
    "pycharm": {
     "name": "#%% md\n"
    }
   }
  },
  {
   "cell_type": "code",
   "execution_count": 11,
   "outputs": [],
   "source": [
    "from sklearn.metrics.pairwise import euclidean_distances\n",
    "\n",
    "def four_point_transform(image, pts):\n",
    "\tpoints = order_points(pts)\n",
    "\n",
    "\t# the side length is the minimum distance between any of the 4 points.\n",
    "\tdistances = euclidean_distances(points, points)\t # Compute distances between all points\n",
    "\n",
    "\t# Get the smallest non-zero distance (0 means we compared the point with itself)\n",
    "\tflat = distances.flatten()\n",
    "\tside_length = flat[flat != 0].min()\n",
    "\tside_length = int(side_length)\n",
    "\n",
    "\tdst = np.array([\n",
    "\t\t[0, 0],\n",
    "\t\t[side_length - 1, 0],\n",
    "\t\t[side_length - 1, side_length - 1],\n",
    "\t\t[0, side_length - 1]], dtype = \"float32\")\n",
    "\n",
    "\tM = cv2.getPerspectiveTransform(points, dst)\n",
    "\twarped = cv2.warpPerspective(image, M, (side_length, side_length))\n",
    "\n",
    "\treturn warped"
   ],
   "metadata": {
    "collapsed": false,
    "pycharm": {
     "name": "#%%\n"
    }
   }
  },
  {
   "cell_type": "code",
   "execution_count": 12,
   "outputs": [
    {
     "name": "stdout",
     "output_type": "stream",
     "text": [
      "(550, 550, 3)\n"
     ]
    }
   ],
   "source": [
    "transformed = transform_and_show(img, field_corners)\n",
    "print(transformed.shape)"
   ],
   "metadata": {
    "collapsed": false,
    "pycharm": {
     "name": "#%%\n"
    }
   }
  },
  {
   "cell_type": "markdown",
   "source": [
    "As we can see we now have a square image."
   ],
   "metadata": {
    "collapsed": false,
    "pycharm": {
     "name": "#%% md\n"
    }
   }
  },
  {
   "cell_type": "code",
   "execution_count": 12,
   "outputs": [],
   "source": [],
   "metadata": {
    "collapsed": false,
    "pycharm": {
     "name": "#%%\n"
    }
   }
  }
 ],
 "metadata": {
  "kernelspec": {
   "display_name": "Python 3",
   "language": "python",
   "name": "python3"
  },
  "language_info": {
   "codemirror_mode": {
    "name": "ipython",
    "version": 2
   },
   "file_extension": ".py",
   "mimetype": "text/x-python",
   "name": "python",
   "nbconvert_exporter": "python",
   "pygments_lexer": "ipython2",
   "version": "2.7.6"
  }
 },
 "nbformat": 4,
 "nbformat_minor": 0
}